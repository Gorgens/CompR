{
 "cells": [
  {
   "cell_type": "code",
   "execution_count": 1,
   "metadata": {
    "colab": {},
    "colab_type": "code",
    "executionInfo": {
     "elapsed": 964,
     "status": "ok",
     "timestamp": 1598373828714,
     "user": {
      "displayName": "Eric Gorgens",
      "photoUrl": "https://lh3.googleusercontent.com/a-/AOh14GhVU-7nsM7po6AMtQzSedMaYucuMHjAKSUjDT3lkbY=s64",
      "userId": "12877510843366623589"
     },
     "user_tz": 180
    },
    "id": "7ONoSpzLdunE"
   },
   "outputs": [],
   "source": [
    "import pandas as pd"
   ]
  },
  {
   "cell_type": "code",
   "execution_count": 5,
   "metadata": {
    "colab": {
     "base_uri": "https://localhost:8080/",
     "height": 270
    },
    "colab_type": "code",
    "executionInfo": {
     "elapsed": 1097,
     "status": "ok",
     "timestamp": 1598373831403,
     "user": {
      "displayName": "Eric Gorgens",
      "photoUrl": "https://lh3.googleusercontent.com/a-/AOh14GhVU-7nsM7po6AMtQzSedMaYucuMHjAKSUjDT3lkbY=s64",
      "userId": "12877510843366623589"
     },
     "user_tz": 180
    },
    "id": "SfYf4E-ldwvH",
    "outputId": "b6a10d1b-181c-4e91-f005-e40c0b6b83fa"
   },
   "outputs": [],
   "source": [
    "pop = pd.read_csv('populationSpace v2.csv', header=0)\n",
    "# pop.head()\n",
    "# pop.columns[1:]"
   ]
  },
  {
   "cell_type": "code",
   "execution_count": 6,
   "metadata": {
    "colab": {
     "base_uri": "https://localhost:8080/",
     "height": 85
    },
    "colab_type": "code",
    "executionInfo": {
     "elapsed": 971,
     "status": "ok",
     "timestamp": 1598373838523,
     "user": {
      "displayName": "Eric Gorgens",
      "photoUrl": "https://lh3.googleusercontent.com/a-/AOh14GhVU-7nsM7po6AMtQzSedMaYucuMHjAKSUjDT3lkbY=s64",
      "userId": "12877510843366623589"
     },
     "user_tz": 180
    },
    "id": "CVi17ikyfETr",
    "outputId": "27eb4345-bbb8-4888-d21a-88d2e374ca1d"
   },
   "outputs": [],
   "source": [
    "meltPop = pop.melt(id_vars=['Unnamed: 0'], value_vars=pop.columns[1:])\n",
    "meltPop.columns = ['y', 'x', 'vol']\n",
    "meltPop.x = meltPop.x.astype(int)\n",
    "meltPop.y = meltPop.y.astype(int)\n",
    "# meltPop.dtypes"
   ]
  },
  {
   "cell_type": "code",
   "execution_count": 7,
   "metadata": {
    "colab": {},
    "colab_type": "code",
    "executionInfo": {
     "elapsed": 923,
     "status": "ok",
     "timestamp": 1598373841564,
     "user": {
      "displayName": "Eric Gorgens",
      "photoUrl": "https://lh3.googleusercontent.com/a-/AOh14GhVU-7nsM7po6AMtQzSedMaYucuMHjAKSUjDT3lkbY=s64",
      "userId": "12877510843366623589"
     },
     "user_tz": 180
    },
    "id": "Q5ldK2ekg5j0"
   },
   "outputs": [],
   "source": [
    "def findXY(x, y, data):\n",
    "  return data.loc[(data.x == x) & (data.y == y), 'vol']\n"
   ]
  },
  {
   "cell_type": "code",
   "execution_count": 8,
   "metadata": {
    "colab": {
     "base_uri": "https://localhost:8080/",
     "height": 34
    },
    "colab_type": "code",
    "executionInfo": {
     "elapsed": 939,
     "status": "ok",
     "timestamp": 1598373844251,
     "user": {
      "displayName": "Eric Gorgens",
      "photoUrl": "https://lh3.googleusercontent.com/a-/AOh14GhVU-7nsM7po6AMtQzSedMaYucuMHjAKSUjDT3lkbY=s64",
      "userId": "12877510843366623589"
     },
     "user_tz": 180
    },
    "id": "Mb8hNhxbkwCf",
    "outputId": "2c3135ac-49bf-4f7c-8df2-176e47dfc8cc"
   },
   "outputs": [
    {
     "data": {
      "text/plain": [
       "91.35990100000001"
      ]
     },
     "execution_count": 8,
     "metadata": {},
     "output_type": "execute_result"
    }
   ],
   "source": [
    "float(findXY(1, 9, meltPop))"
   ]
  },
  {
   "cell_type": "code",
   "execution_count": 9,
   "metadata": {
    "colab": {
     "base_uri": "https://localhost:8080/",
     "height": 204
    },
    "colab_type": "code",
    "executionInfo": {
     "elapsed": 1066,
     "status": "ok",
     "timestamp": 1598373880820,
     "user": {
      "displayName": "Eric Gorgens",
      "photoUrl": "https://lh3.googleusercontent.com/a-/AOh14GhVU-7nsM7po6AMtQzSedMaYucuMHjAKSUjDT3lkbY=s64",
      "userId": "12877510843366623589"
     },
     "user_tz": 180
    },
    "id": "VoSURE8gjXGL",
    "outputId": "b543c484-1004-4b18-b8d8-8e4ee173585c"
   },
   "outputs": [
    {
     "data": {
      "text/html": [
       "<div>\n",
       "<style scoped>\n",
       "    .dataframe tbody tr th:only-of-type {\n",
       "        vertical-align: middle;\n",
       "    }\n",
       "\n",
       "    .dataframe tbody tr th {\n",
       "        vertical-align: top;\n",
       "    }\n",
       "\n",
       "    .dataframe thead th {\n",
       "        text-align: right;\n",
       "    }\n",
       "</style>\n",
       "<table border=\"1\" class=\"dataframe\">\n",
       "  <thead>\n",
       "    <tr style=\"text-align: right;\">\n",
       "      <th></th>\n",
       "      <th>x</th>\n",
       "      <th>y</th>\n",
       "      <th>xadj</th>\n",
       "      <th>yadj</th>\n",
       "    </tr>\n",
       "  </thead>\n",
       "  <tbody>\n",
       "    <tr>\n",
       "      <th>0</th>\n",
       "      <td>1000</td>\n",
       "      <td>4000</td>\n",
       "      <td>10</td>\n",
       "      <td>40</td>\n",
       "    </tr>\n",
       "    <tr>\n",
       "      <th>1</th>\n",
       "      <td>1000</td>\n",
       "      <td>8000</td>\n",
       "      <td>10</td>\n",
       "      <td>80</td>\n",
       "    </tr>\n",
       "    <tr>\n",
       "      <th>2</th>\n",
       "      <td>1000</td>\n",
       "      <td>12000</td>\n",
       "      <td>10</td>\n",
       "      <td>120</td>\n",
       "    </tr>\n",
       "    <tr>\n",
       "      <th>3</th>\n",
       "      <td>1000</td>\n",
       "      <td>16000</td>\n",
       "      <td>10</td>\n",
       "      <td>160</td>\n",
       "    </tr>\n",
       "    <tr>\n",
       "      <th>4</th>\n",
       "      <td>1000</td>\n",
       "      <td>20000</td>\n",
       "      <td>10</td>\n",
       "      <td>200</td>\n",
       "    </tr>\n",
       "  </tbody>\n",
       "</table>\n",
       "</div>"
      ],
      "text/plain": [
       "      x      y  xadj  yadj\n",
       "0  1000   4000    10    40\n",
       "1  1000   8000    10    80\n",
       "2  1000  12000    10   120\n",
       "3  1000  16000    10   160\n",
       "4  1000  20000    10   200"
      ]
     },
     "execution_count": 9,
     "metadata": {},
     "output_type": "execute_result"
    }
   ],
   "source": [
    "temp = pd.read_csv('cleuma_v2.csv')\n",
    "temp.head()"
   ]
  },
  {
   "cell_type": "code",
   "execution_count": 10,
   "metadata": {
    "colab": {
     "base_uri": "https://localhost:8080/",
     "height": 187
    },
    "colab_type": "code",
    "executionInfo": {
     "elapsed": 1124,
     "status": "ok",
     "timestamp": 1598373883941,
     "user": {
      "displayName": "Eric Gorgens",
      "photoUrl": "https://lh3.googleusercontent.com/a-/AOh14GhVU-7nsM7po6AMtQzSedMaYucuMHjAKSUjDT3lkbY=s64",
      "userId": "12877510843366623589"
     },
     "user_tz": 180
    },
    "id": "Dp3dbortivls",
    "outputId": "9c67efda-234a-4764-ab8e-8bcc44e48255"
   },
   "outputs": [
    {
     "data": {
      "text/plain": [
       "[87.89999399999999,\n",
       " 93.434998,\n",
       " 87.437057,\n",
       " 99.07,\n",
       " 88.213036,\n",
       " 81.532555,\n",
       " 93.777367,\n",
       " 95.01351899999999,\n",
       " 84.48259,\n",
       " 85.629616]"
      ]
     },
     "execution_count": 10,
     "metadata": {},
     "output_type": "execute_result"
    }
   ],
   "source": [
    "vol = []\n",
    "for index, row in temp.iterrows():\n",
    "  vol.append(float(findXY(row['xadj'], row['yadj'], meltPop)))\n",
    "\n",
    "vol[0:10]"
   ]
  },
  {
   "cell_type": "code",
   "execution_count": 11,
   "metadata": {
    "colab": {},
    "colab_type": "code",
    "executionInfo": {
     "elapsed": 1920,
     "status": "ok",
     "timestamp": 1598373896355,
     "user": {
      "displayName": "Eric Gorgens",
      "photoUrl": "https://lh3.googleusercontent.com/a-/AOh14GhVU-7nsM7po6AMtQzSedMaYucuMHjAKSUjDT3lkbY=s64",
      "userId": "12877510843366623589"
     },
     "user_tz": 180
    },
    "id": "_JOCA5iwk4tq"
   },
   "outputs": [],
   "source": [
    "temp['vol'] = vol\n",
    "temp.to_csv('cleumaVol.csv')"
   ]
  }
 ],
 "metadata": {
  "colab": {
   "authorship_tag": "ABX9TyOu34RD3JhRfcV8ANGDvwKh",
   "collapsed_sections": [],
   "name": "man simulated forest.ipynb",
   "provenance": []
  },
  "kernelspec": {
   "display_name": "Python 3",
   "language": "python",
   "name": "python3"
  },
  "language_info": {
   "codemirror_mode": {
    "name": "ipython",
    "version": 3
   },
   "file_extension": ".py",
   "mimetype": "text/x-python",
   "name": "python",
   "nbconvert_exporter": "python",
   "pygments_lexer": "ipython3",
   "version": "3.7.7"
  }
 },
 "nbformat": 4,
 "nbformat_minor": 1
}
