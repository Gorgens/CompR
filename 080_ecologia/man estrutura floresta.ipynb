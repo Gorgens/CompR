{
 "cells": [
  {
   "cell_type": "code",
   "execution_count": 1,
   "metadata": {},
   "outputs": [],
   "source": [
    "import numpy as np\n",
    "from scipy.stats import gamma\n",
    "import seaborn as sns\n",
    "import pandas as pd"
   ]
  },
  {
   "cell_type": "markdown",
   "metadata": {},
   "source": [
    "## Modelo hipsométrico\n",
    "\n",
    "Referência: https://acta.inpa.gov.br/fasciculos/35-3/BODY/v35n3a07.html"
   ]
  },
  {
   "cell_type": "code",
   "execution_count": 2,
   "metadata": {},
   "outputs": [
    {
     "data": {
      "text/plain": [
       "44.728227919314556"
      ]
     },
     "execution_count": 2,
     "metadata": {},
     "output_type": "execute_result"
    }
   ],
   "source": [
    "b0 = -8.8722\n",
    "b1 = 3.4217\n",
    "b2 = 0.1382\n",
    "dap = 250\n",
    "\n",
    "(((dap**2)/(b0 + b1 * dap + b2 * dap**2))**2)+1.3"
   ]
  },
  {
   "cell_type": "markdown",
   "metadata": {},
   "source": [
    "## Objeto árvore"
   ]
  },
  {
   "cell_type": "code",
   "execution_count": 3,
   "metadata": {},
   "outputs": [],
   "source": [
    "%run -i '/home/gorgens/Github/simFor/nativaPy/agente_arvore.py'"
   ]
  },
  {
   "cell_type": "markdown",
   "metadata": {},
   "source": [
    "# Simulação 1"
   ]
  },
  {
   "cell_type": "markdown",
   "metadata": {},
   "source": [
    "- Especies: uniforme\n",
    "- DAP: J-reverso"
   ]
  },
  {
   "cell_type": "code",
   "execution_count": 4,
   "metadata": {},
   "outputs": [],
   "source": [
    "nSp = 10\n",
    "narv = 600\n",
    "areaHa = 1."
   ]
  },
  {
   "cell_type": "markdown",
   "metadata": {},
   "source": [
    "## Gerador espécies uniforme"
   ]
  },
  {
   "cell_type": "code",
   "execution_count": 5,
   "metadata": {},
   "outputs": [
    {
     "data": {
      "text/plain": [
       "<matplotlib.axes._subplots.AxesSubplot at 0x7fc2a8971a90>"
      ]
     },
     "execution_count": 5,
     "metadata": {},
     "output_type": "execute_result"
    },
    {
     "data": {
      "image/png": "[encoded data removed]",
      "text/plain": [
       "<Figure size 432x288 with 1 Axes>"
      ]
     },
     "metadata": {
      "needs_background": "light"
     },
     "output_type": "display_data"
    }
   ],
   "source": [
    "sp = np.random.uniform(1,nSp,narv)\n",
    "sns.distplot(sp)"
   ]
  },
  {
   "cell_type": "markdown",
   "metadata": {},
   "source": [
    "## Gerador DAP em J-reverso"
   ]
  },
  {
   "cell_type": "code",
   "execution_count": 6,
   "metadata": {},
   "outputs": [
    {
     "data": {
      "text/plain": [
       "<matplotlib.axes._subplots.AxesSubplot at 0x7fc2a764ac90>"
      ]
     },
     "execution_count": 6,
     "metadata": {},
     "output_type": "execute_result"
    },
    {
     "data": {
      "image/png": "[encoded data removed]",
      "text/plain": [
       "<Figure size 432x288 with 1 Axes>"
      ]
     },
     "metadata": {
      "needs_background": "light"
     },
     "output_type": "display_data"
    }
   ],
   "source": [
    "dap = gamma.rvs(0.8, scale = 50, size=600)\n",
    "sns.distplot(dap)"
   ]
  },
  {
   "cell_type": "markdown",
   "metadata": {},
   "source": [
    "## Gera floresta"
   ]
  },
  {
   "cell_type": "code",
   "execution_count": 7,
   "metadata": {},
   "outputs": [],
   "source": [
    "floresta = []\n",
    "\n",
    "for i in range(narv):\n",
    " floresta.append(arvore('sp'+str(int(np.random.uniform(1,nSp,1)[0])), \n",
    "                        None, \n",
    "                        gamma.rvs(0.8, scale = 50, size=1)[0]))"
   ]
  },
  {
   "cell_type": "code",
   "execution_count": 8,
   "metadata": {},
   "outputs": [
    {
     "data": {
      "text/html": [
       "<div>\n",
       "<style scoped>\n",
       "    .dataframe tbody tr th:only-of-type {\n",
       "        vertical-align: middle;\n",
       "    }\n",
       "\n",
       "    .dataframe tbody tr th {\n",
       "        vertical-align: top;\n",
       "    }\n",
       "\n",
       "    .dataframe thead th {\n",
       "        text-align: right;\n",
       "    }\n",
       "</style>\n",
       "<table border=\"1\" class=\"dataframe\">\n",
       "  <thead>\n",
       "    <tr style=\"text-align: right;\">\n",
       "      <th></th>\n",
       "      <th>sp</th>\n",
       "      <th>dap</th>\n",
       "      <th>altura</th>\n",
       "      <th>as</th>\n",
       "    </tr>\n",
       "  </thead>\n",
       "  <tbody>\n",
       "    <tr>\n",
       "      <th>0</th>\n",
       "      <td>sp7</td>\n",
       "      <td>84.335630</td>\n",
       "      <td>33.030794</td>\n",
       "      <td>0.558331</td>\n",
       "    </tr>\n",
       "    <tr>\n",
       "      <th>1</th>\n",
       "      <td>sp2</td>\n",
       "      <td>0.862138</td>\n",
       "      <td>1.316313</td>\n",
       "      <td>0.000058</td>\n",
       "    </tr>\n",
       "    <tr>\n",
       "      <th>2</th>\n",
       "      <td>sp5</td>\n",
       "      <td>5.362369</td>\n",
       "      <td>5.870587</td>\n",
       "      <td>0.002257</td>\n",
       "    </tr>\n",
       "    <tr>\n",
       "      <th>3</th>\n",
       "      <td>sp2</td>\n",
       "      <td>162.849728</td>\n",
       "      <td>40.916743</td>\n",
       "      <td>2.081823</td>\n",
       "    </tr>\n",
       "    <tr>\n",
       "      <th>4</th>\n",
       "      <td>sp1</td>\n",
       "      <td>1.003584</td>\n",
       "      <td>1.336126</td>\n",
       "      <td>0.000079</td>\n",
       "    </tr>\n",
       "  </tbody>\n",
       "</table>\n",
       "</div>"
      ],
      "text/plain": [
       "    sp         dap     altura        as\n",
       "0  sp7   84.335630  33.030794  0.558331\n",
       "1  sp2    0.862138   1.316313  0.000058\n",
       "2  sp5    5.362369   5.870587  0.002257\n",
       "3  sp2  162.849728  40.916743  2.081823\n",
       "4  sp1    1.003584   1.336126  0.000079"
      ]
     },
     "execution_count": 8,
     "metadata": {},
     "output_type": "execute_result"
    }
   ],
   "source": [
    "f_dap = [i.dap for i in floresta]\n",
    "f_h = [i.alt for i in floresta]\n",
    "f_sp = [i.sp for i in floresta]\n",
    "f_s = [i.s for i in floresta]\n",
    "dfFloresta = pd.DataFrame(list(zip(f_sp, f_dap, f_h, f_s)),\n",
    "                         columns = ['sp', 'dap', 'altura', 'as'])\n",
    "dfFloresta.head()"
   ]
  },
  {
   "cell_type": "code",
   "execution_count": 9,
   "metadata": {},
   "outputs": [
    {
     "data": {
      "text/html": [
       "<div>\n",
       "<style scoped>\n",
       "    .dataframe tbody tr th:only-of-type {\n",
       "        vertical-align: middle;\n",
       "    }\n",
       "\n",
       "    .dataframe tbody tr th {\n",
       "        vertical-align: top;\n",
       "    }\n",
       "\n",
       "    .dataframe thead th {\n",
       "        text-align: right;\n",
       "    }\n",
       "</style>\n",
       "<table border=\"1\" class=\"dataframe\">\n",
       "  <thead>\n",
       "    <tr style=\"text-align: right;\">\n",
       "      <th></th>\n",
       "      <th>Nind</th>\n",
       "      <th>DA</th>\n",
       "      <th>DR</th>\n",
       "    </tr>\n",
       "  </thead>\n",
       "  <tbody>\n",
       "    <tr>\n",
       "      <th>sp1</th>\n",
       "      <td>69</td>\n",
       "      <td>69.0</td>\n",
       "      <td>0.115000</td>\n",
       "    </tr>\n",
       "    <tr>\n",
       "      <th>sp2</th>\n",
       "      <td>60</td>\n",
       "      <td>60.0</td>\n",
       "      <td>0.100000</td>\n",
       "    </tr>\n",
       "    <tr>\n",
       "      <th>sp3</th>\n",
       "      <td>68</td>\n",
       "      <td>68.0</td>\n",
       "      <td>0.113333</td>\n",
       "    </tr>\n",
       "    <tr>\n",
       "      <th>sp4</th>\n",
       "      <td>59</td>\n",
       "      <td>59.0</td>\n",
       "      <td>0.098333</td>\n",
       "    </tr>\n",
       "    <tr>\n",
       "      <th>sp5</th>\n",
       "      <td>65</td>\n",
       "      <td>65.0</td>\n",
       "      <td>0.108333</td>\n",
       "    </tr>\n",
       "    <tr>\n",
       "      <th>sp6</th>\n",
       "      <td>67</td>\n",
       "      <td>67.0</td>\n",
       "      <td>0.111667</td>\n",
       "    </tr>\n",
       "    <tr>\n",
       "      <th>sp7</th>\n",
       "      <td>74</td>\n",
       "      <td>74.0</td>\n",
       "      <td>0.123333</td>\n",
       "    </tr>\n",
       "    <tr>\n",
       "      <th>sp8</th>\n",
       "      <td>62</td>\n",
       "      <td>62.0</td>\n",
       "      <td>0.103333</td>\n",
       "    </tr>\n",
       "    <tr>\n",
       "      <th>sp9</th>\n",
       "      <td>76</td>\n",
       "      <td>76.0</td>\n",
       "      <td>0.126667</td>\n",
       "    </tr>\n",
       "  </tbody>\n",
       "</table>\n",
       "</div>"
      ],
      "text/plain": [
       "     Nind    DA        DR\n",
       "sp1    69  69.0  0.115000\n",
       "sp2    60  60.0  0.100000\n",
       "sp3    68  68.0  0.113333\n",
       "sp4    59  59.0  0.098333\n",
       "sp5    65  65.0  0.108333\n",
       "sp6    67  67.0  0.111667\n",
       "sp7    74  74.0  0.123333\n",
       "sp8    62  62.0  0.103333\n",
       "sp9    76  76.0  0.126667"
      ]
     },
     "execution_count": 9,
     "metadata": {},
     "output_type": "execute_result"
    }
   ],
   "source": [
    "densidade = dfFloresta.pivot_table(values='dap', index = 'sp', aggfunc='count')\n",
    "densidade = densidade.rename_axis(None)\n",
    "densidade = densidade.rename_axis(None, axis='columns')\n",
    "densidade.columns = ['Nind']\n",
    "densidade['DA'] = densidade.apply(lambda x: x['Nind']/areaHa, axis=1)\n",
    "densidade['DR'] = densidade.apply(lambda x: x['DA']/sum(densidade['DA']), axis=1)\n",
    "densidade"
   ]
  },
  {
   "cell_type": "code",
   "execution_count": 10,
   "metadata": {},
   "outputs": [
    {
     "data": {
      "text/html": [
       "<div>\n",
       "<style scoped>\n",
       "    .dataframe tbody tr th:only-of-type {\n",
       "        vertical-align: middle;\n",
       "    }\n",
       "\n",
       "    .dataframe tbody tr th {\n",
       "        vertical-align: top;\n",
       "    }\n",
       "\n",
       "    .dataframe thead th {\n",
       "        text-align: right;\n",
       "    }\n",
       "</style>\n",
       "<table border=\"1\" class=\"dataframe\">\n",
       "  <thead>\n",
       "    <tr style=\"text-align: right;\">\n",
       "      <th></th>\n",
       "      <th>AS</th>\n",
       "      <th>DoA</th>\n",
       "      <th>DoR</th>\n",
       "    </tr>\n",
       "  </thead>\n",
       "  <tbody>\n",
       "    <tr>\n",
       "      <th>sp1</th>\n",
       "      <td>14.258619</td>\n",
       "      <td>14.258619</td>\n",
       "      <td>0.085538</td>\n",
       "    </tr>\n",
       "    <tr>\n",
       "      <th>sp2</th>\n",
       "      <td>20.072520</td>\n",
       "      <td>20.072520</td>\n",
       "      <td>0.120415</td>\n",
       "    </tr>\n",
       "    <tr>\n",
       "      <th>sp3</th>\n",
       "      <td>14.271922</td>\n",
       "      <td>14.271922</td>\n",
       "      <td>0.085618</td>\n",
       "    </tr>\n",
       "    <tr>\n",
       "      <th>sp4</th>\n",
       "      <td>13.863839</td>\n",
       "      <td>13.863839</td>\n",
       "      <td>0.083169</td>\n",
       "    </tr>\n",
       "    <tr>\n",
       "      <th>sp5</th>\n",
       "      <td>15.171281</td>\n",
       "      <td>15.171281</td>\n",
       "      <td>0.091013</td>\n",
       "    </tr>\n",
       "    <tr>\n",
       "      <th>sp6</th>\n",
       "      <td>20.321718</td>\n",
       "      <td>20.321718</td>\n",
       "      <td>0.121910</td>\n",
       "    </tr>\n",
       "    <tr>\n",
       "      <th>sp7</th>\n",
       "      <td>26.917960</td>\n",
       "      <td>26.917960</td>\n",
       "      <td>0.161481</td>\n",
       "    </tr>\n",
       "    <tr>\n",
       "      <th>sp8</th>\n",
       "      <td>19.580212</td>\n",
       "      <td>19.580212</td>\n",
       "      <td>0.117462</td>\n",
       "    </tr>\n",
       "    <tr>\n",
       "      <th>sp9</th>\n",
       "      <td>22.235805</td>\n",
       "      <td>22.235805</td>\n",
       "      <td>0.133393</td>\n",
       "    </tr>\n",
       "  </tbody>\n",
       "</table>\n",
       "</div>"
      ],
      "text/plain": [
       "            AS        DoA       DoR\n",
       "sp1  14.258619  14.258619  0.085538\n",
       "sp2  20.072520  20.072520  0.120415\n",
       "sp3  14.271922  14.271922  0.085618\n",
       "sp4  13.863839  13.863839  0.083169\n",
       "sp5  15.171281  15.171281  0.091013\n",
       "sp6  20.321718  20.321718  0.121910\n",
       "sp7  26.917960  26.917960  0.161481\n",
       "sp8  19.580212  19.580212  0.117462\n",
       "sp9  22.235805  22.235805  0.133393"
      ]
     },
     "execution_count": 10,
     "metadata": {},
     "output_type": "execute_result"
    }
   ],
   "source": [
    "dominancia = dfFloresta.pivot_table(values='as', index = 'sp', aggfunc='sum')\n",
    "dominancia = dominancia.rename_axis(None)\n",
    "dominancia = dominancia.rename_axis(None, axis='columns')\n",
    "dominancia.columns = ['AS']\n",
    "dominancia['DoA'] = dominancia.apply(lambda x: x['AS']/areaHa, axis=1)\n",
    "dominancia['DoR'] = dominancia.apply(lambda x: x['DoA']/sum(dominancia['DoA']), axis=1)\n",
    "dominancia"
   ]
  },
  {
   "cell_type": "code",
   "execution_count": 11,
   "metadata": {
    "scrolled": true
   },
   "outputs": [
    {
     "data": {
      "text/plain": [
       "sp1    0.100269\n",
       "sp2    0.110208\n",
       "sp3    0.099475\n",
       "sp4    0.090751\n",
       "sp5    0.099673\n",
       "sp6    0.116789\n",
       "sp7    0.142407\n",
       "sp8    0.110398\n",
       "sp9    0.130030\n",
       "dtype: float64"
      ]
     },
     "execution_count": 11,
     "metadata": {},
     "output_type": "execute_result"
    }
   ],
   "source": [
    "vc = (densidade['DR'] + dominancia['DoR'])/2\n",
    "vc"
   ]
  },
  {
   "cell_type": "markdown",
   "metadata": {},
   "source": [
    "# Simulação 2"
   ]
  },
  {
   "cell_type": "markdown",
   "metadata": {},
   "source": [
    "- Especies: Gama\n",
    "- DAP: J-reverso"
   ]
  },
  {
   "cell_type": "code",
   "execution_count": 12,
   "metadata": {},
   "outputs": [],
   "source": [
    "nSp = 10\n",
    "narv = 600\n",
    "areaHa = 1."
   ]
  },
  {
   "cell_type": "markdown",
   "metadata": {},
   "source": [
    "## Gerador espécies gama"
   ]
  },
  {
   "cell_type": "code",
   "execution_count": 13,
   "metadata": {},
   "outputs": [
    {
     "data": {
      "text/plain": [
       "<matplotlib.axes._subplots.AxesSubplot at 0x7fc2a33fb190>"
      ]
     },
     "execution_count": 13,
     "metadata": {},
     "output_type": "execute_result"
    },
    {
     "data": {
      "image/png": "[encoded data removed]",
      "text/plain": [
       "<Figure size 432x288 with 1 Axes>"
      ]
     },
     "metadata": {
      "needs_background": "light"
     },
     "output_type": "display_data"
    }
   ],
   "source": [
    "sp = gamma.rvs(0.5, scale = 5, size=nSp)\n",
    "sns.distplot(sp)"
   ]
  },
  {
   "cell_type": "markdown",
   "metadata": {},
   "source": [
    "## Gerador DAP J-reverso"
   ]
  },
  {
   "cell_type": "code",
   "execution_count": 14,
   "metadata": {},
   "outputs": [
    {
     "data": {
      "text/plain": [
       "<matplotlib.axes._subplots.AxesSubplot at 0x7fc2a7510490>"
      ]
     },
     "execution_count": 14,
     "metadata": {},
     "output_type": "execute_result"
    },
    {
     "data": {
      "image/png": "[encoded data removed]",
      "text/plain": [
       "<Figure size 432x288 with 1 Axes>"
      ]
     },
     "metadata": {
      "needs_background": "light"
     },
     "output_type": "display_data"
    }
   ],
   "source": [
    "dap = gamma.rvs(0.8, scale = 50, size=nSp)\n",
    "sns.distplot(dap)"
   ]
  },
  {
   "cell_type": "markdown",
   "metadata": {},
   "source": [
    "## Gera uma floresta"
   ]
  },
  {
   "cell_type": "code",
   "execution_count": 15,
   "metadata": {},
   "outputs": [],
   "source": [
    "floresta = []\n",
    "\n",
    "for i in range(narv):\n",
    " floresta.append(arvore('sp'+str(int(gamma.rvs(0.5, scale = 5, size=1)[0]+1)), \n",
    "                        None, \n",
    "                        gamma.rvs(0.8, scale = 50, size=1)[0]))"
   ]
  },
  {
   "cell_type": "code",
   "execution_count": 16,
   "metadata": {},
   "outputs": [
    {
     "data": {
      "text/html": [
       "<div>\n",
       "<style scoped>\n",
       "    .dataframe tbody tr th:only-of-type {\n",
       "        vertical-align: middle;\n",
       "    }\n",
       "\n",
       "    .dataframe tbody tr th {\n",
       "        vertical-align: top;\n",
       "    }\n",
       "\n",
       "    .dataframe thead th {\n",
       "        text-align: right;\n",
       "    }\n",
       "</style>\n",
       "<table border=\"1\" class=\"dataframe\">\n",
       "  <thead>\n",
       "    <tr style=\"text-align: right;\">\n",
       "      <th></th>\n",
       "      <th>sp</th>\n",
       "      <th>dap</th>\n",
       "      <th>altura</th>\n",
       "      <th>as</th>\n",
       "    </tr>\n",
       "  </thead>\n",
       "  <tbody>\n",
       "    <tr>\n",
       "      <th>0</th>\n",
       "      <td>sp1</td>\n",
       "      <td>8.400184</td>\n",
       "      <td>6.974282</td>\n",
       "      <td>0.005539</td>\n",
       "    </tr>\n",
       "    <tr>\n",
       "      <th>1</th>\n",
       "      <td>sp31</td>\n",
       "      <td>37.631641</td>\n",
       "      <td>21.434067</td>\n",
       "      <td>0.111167</td>\n",
       "    </tr>\n",
       "    <tr>\n",
       "      <th>2</th>\n",
       "      <td>sp1</td>\n",
       "      <td>25.151188</td>\n",
       "      <td>16.067909</td>\n",
       "      <td>0.049658</td>\n",
       "    </tr>\n",
       "    <tr>\n",
       "      <th>3</th>\n",
       "      <td>sp1</td>\n",
       "      <td>5.536044</td>\n",
       "      <td>5.889458</td>\n",
       "      <td>0.002406</td>\n",
       "    </tr>\n",
       "    <tr>\n",
       "      <th>4</th>\n",
       "      <td>sp1</td>\n",
       "      <td>28.717000</td>\n",
       "      <td>17.745058</td>\n",
       "      <td>0.064736</td>\n",
       "    </tr>\n",
       "  </tbody>\n",
       "</table>\n",
       "</div>"
      ],
      "text/plain": [
       "     sp        dap     altura        as\n",
       "0   sp1   8.400184   6.974282  0.005539\n",
       "1  sp31  37.631641  21.434067  0.111167\n",
       "2   sp1  25.151188  16.067909  0.049658\n",
       "3   sp1   5.536044   5.889458  0.002406\n",
       "4   sp1  28.717000  17.745058  0.064736"
      ]
     },
     "execution_count": 16,
     "metadata": {},
     "output_type": "execute_result"
    }
   ],
   "source": [
    "f_dap = [i.dap for i in floresta]\n",
    "f_h = [i.alt for i in floresta]\n",
    "f_sp = [i.sp for i in floresta]\n",
    "f_s = [i.s for i in floresta]\n",
    "dfFloresta = pd.DataFrame(list(zip(f_sp, f_dap, f_h, f_s)),\n",
    "                         columns = ['sp', 'dap', 'altura', 'as'])\n",
    "dfFloresta.head()"
   ]
  },
  {
   "cell_type": "code",
   "execution_count": 17,
   "metadata": {},
   "outputs": [
    {
     "data": {
      "text/html": [
       "<div>\n",
       "<style scoped>\n",
       "    .dataframe tbody tr th:only-of-type {\n",
       "        vertical-align: middle;\n",
       "    }\n",
       "\n",
       "    .dataframe tbody tr th {\n",
       "        vertical-align: top;\n",
       "    }\n",
       "\n",
       "    .dataframe thead th {\n",
       "        text-align: right;\n",
       "    }\n",
       "</style>\n",
       "<table border=\"1\" class=\"dataframe\">\n",
       "  <thead>\n",
       "    <tr style=\"text-align: right;\">\n",
       "      <th></th>\n",
       "      <th>Nind</th>\n",
       "      <th>DA</th>\n",
       "      <th>DR</th>\n",
       "    </tr>\n",
       "  </thead>\n",
       "  <tbody>\n",
       "    <tr>\n",
       "      <th>sp1</th>\n",
       "      <td>277</td>\n",
       "      <td>277.0</td>\n",
       "      <td>0.461667</td>\n",
       "    </tr>\n",
       "    <tr>\n",
       "      <th>sp10</th>\n",
       "      <td>11</td>\n",
       "      <td>11.0</td>\n",
       "      <td>0.018333</td>\n",
       "    </tr>\n",
       "    <tr>\n",
       "      <th>sp11</th>\n",
       "      <td>4</td>\n",
       "      <td>4.0</td>\n",
       "      <td>0.006667</td>\n",
       "    </tr>\n",
       "    <tr>\n",
       "      <th>sp12</th>\n",
       "      <td>5</td>\n",
       "      <td>5.0</td>\n",
       "      <td>0.008333</td>\n",
       "    </tr>\n",
       "    <tr>\n",
       "      <th>sp13</th>\n",
       "      <td>3</td>\n",
       "      <td>3.0</td>\n",
       "      <td>0.005000</td>\n",
       "    </tr>\n",
       "    <tr>\n",
       "      <th>sp14</th>\n",
       "      <td>1</td>\n",
       "      <td>1.0</td>\n",
       "      <td>0.001667</td>\n",
       "    </tr>\n",
       "    <tr>\n",
       "      <th>sp15</th>\n",
       "      <td>3</td>\n",
       "      <td>3.0</td>\n",
       "      <td>0.005000</td>\n",
       "    </tr>\n",
       "    <tr>\n",
       "      <th>sp16</th>\n",
       "      <td>4</td>\n",
       "      <td>4.0</td>\n",
       "      <td>0.006667</td>\n",
       "    </tr>\n",
       "    <tr>\n",
       "      <th>sp17</th>\n",
       "      <td>2</td>\n",
       "      <td>2.0</td>\n",
       "      <td>0.003333</td>\n",
       "    </tr>\n",
       "    <tr>\n",
       "      <th>sp18</th>\n",
       "      <td>1</td>\n",
       "      <td>1.0</td>\n",
       "      <td>0.001667</td>\n",
       "    </tr>\n",
       "    <tr>\n",
       "      <th>sp19</th>\n",
       "      <td>1</td>\n",
       "      <td>1.0</td>\n",
       "      <td>0.001667</td>\n",
       "    </tr>\n",
       "    <tr>\n",
       "      <th>sp2</th>\n",
       "      <td>91</td>\n",
       "      <td>91.0</td>\n",
       "      <td>0.151667</td>\n",
       "    </tr>\n",
       "    <tr>\n",
       "      <th>sp21</th>\n",
       "      <td>1</td>\n",
       "      <td>1.0</td>\n",
       "      <td>0.001667</td>\n",
       "    </tr>\n",
       "    <tr>\n",
       "      <th>sp3</th>\n",
       "      <td>60</td>\n",
       "      <td>60.0</td>\n",
       "      <td>0.100000</td>\n",
       "    </tr>\n",
       "    <tr>\n",
       "      <th>sp31</th>\n",
       "      <td>1</td>\n",
       "      <td>1.0</td>\n",
       "      <td>0.001667</td>\n",
       "    </tr>\n",
       "    <tr>\n",
       "      <th>sp4</th>\n",
       "      <td>51</td>\n",
       "      <td>51.0</td>\n",
       "      <td>0.085000</td>\n",
       "    </tr>\n",
       "    <tr>\n",
       "      <th>sp5</th>\n",
       "      <td>35</td>\n",
       "      <td>35.0</td>\n",
       "      <td>0.058333</td>\n",
       "    </tr>\n",
       "    <tr>\n",
       "      <th>sp6</th>\n",
       "      <td>23</td>\n",
       "      <td>23.0</td>\n",
       "      <td>0.038333</td>\n",
       "    </tr>\n",
       "    <tr>\n",
       "      <th>sp7</th>\n",
       "      <td>9</td>\n",
       "      <td>9.0</td>\n",
       "      <td>0.015000</td>\n",
       "    </tr>\n",
       "    <tr>\n",
       "      <th>sp8</th>\n",
       "      <td>9</td>\n",
       "      <td>9.0</td>\n",
       "      <td>0.015000</td>\n",
       "    </tr>\n",
       "    <tr>\n",
       "      <th>sp9</th>\n",
       "      <td>8</td>\n",
       "      <td>8.0</td>\n",
       "      <td>0.013333</td>\n",
       "    </tr>\n",
       "  </tbody>\n",
       "</table>\n",
       "</div>"
      ],
      "text/plain": [
       "      Nind     DA        DR\n",
       "sp1    277  277.0  0.461667\n",
       "sp10    11   11.0  0.018333\n",
       "sp11     4    4.0  0.006667\n",
       "sp12     5    5.0  0.008333\n",
       "sp13     3    3.0  0.005000\n",
       "sp14     1    1.0  0.001667\n",
       "sp15     3    3.0  0.005000\n",
       "sp16     4    4.0  0.006667\n",
       "sp17     2    2.0  0.003333\n",
       "sp18     1    1.0  0.001667\n",
       "sp19     1    1.0  0.001667\n",
       "sp2     91   91.0  0.151667\n",
       "sp21     1    1.0  0.001667\n",
       "sp3     60   60.0  0.100000\n",
       "sp31     1    1.0  0.001667\n",
       "sp4     51   51.0  0.085000\n",
       "sp5     35   35.0  0.058333\n",
       "sp6     23   23.0  0.038333\n",
       "sp7      9    9.0  0.015000\n",
       "sp8      9    9.0  0.015000\n",
       "sp9      8    8.0  0.013333"
      ]
     },
     "execution_count": 17,
     "metadata": {},
     "output_type": "execute_result"
    }
   ],
   "source": [
    "densidade = dfFloresta.pivot_table(values='dap', index = 'sp', aggfunc='count')\n",
    "densidade = densidade.rename_axis(None)\n",
    "densidade = densidade.rename_axis(None, axis='columns')\n",
    "densidade.columns = ['Nind']\n",
    "densidade['DA'] = densidade.apply(lambda x: x['Nind']/areaHa, axis=1)\n",
    "densidade['DR'] = densidade.apply(lambda x: x['DA']/sum(densidade['DA']), axis=1)\n",
    "densidade"
   ]
  },
  {
   "cell_type": "code",
   "execution_count": 18,
   "metadata": {},
   "outputs": [
    {
     "data": {
      "text/html": [
       "<div>\n",
       "<style scoped>\n",
       "    .dataframe tbody tr th:only-of-type {\n",
       "        vertical-align: middle;\n",
       "    }\n",
       "\n",
       "    .dataframe tbody tr th {\n",
       "        vertical-align: top;\n",
       "    }\n",
       "\n",
       "    .dataframe thead th {\n",
       "        text-align: right;\n",
       "    }\n",
       "</style>\n",
       "<table border=\"1\" class=\"dataframe\">\n",
       "  <thead>\n",
       "    <tr style=\"text-align: right;\">\n",
       "      <th></th>\n",
       "      <th>AS</th>\n",
       "      <th>DoA</th>\n",
       "      <th>DoR</th>\n",
       "    </tr>\n",
       "  </thead>\n",
       "  <tbody>\n",
       "    <tr>\n",
       "      <th>sp1</th>\n",
       "      <td>69.981806</td>\n",
       "      <td>69.981806</td>\n",
       "      <td>0.394178</td>\n",
       "    </tr>\n",
       "    <tr>\n",
       "      <th>sp10</th>\n",
       "      <td>1.757374</td>\n",
       "      <td>1.757374</td>\n",
       "      <td>0.009899</td>\n",
       "    </tr>\n",
       "    <tr>\n",
       "      <th>sp11</th>\n",
       "      <td>0.348378</td>\n",
       "      <td>0.348378</td>\n",
       "      <td>0.001962</td>\n",
       "    </tr>\n",
       "    <tr>\n",
       "      <th>sp12</th>\n",
       "      <td>0.186908</td>\n",
       "      <td>0.186908</td>\n",
       "      <td>0.001053</td>\n",
       "    </tr>\n",
       "    <tr>\n",
       "      <th>sp13</th>\n",
       "      <td>0.910116</td>\n",
       "      <td>0.910116</td>\n",
       "      <td>0.005126</td>\n",
       "    </tr>\n",
       "    <tr>\n",
       "      <th>sp14</th>\n",
       "      <td>0.458842</td>\n",
       "      <td>0.458842</td>\n",
       "      <td>0.002584</td>\n",
       "    </tr>\n",
       "    <tr>\n",
       "      <th>sp15</th>\n",
       "      <td>0.006516</td>\n",
       "      <td>0.006516</td>\n",
       "      <td>0.000037</td>\n",
       "    </tr>\n",
       "    <tr>\n",
       "      <th>sp16</th>\n",
       "      <td>1.122796</td>\n",
       "      <td>1.122796</td>\n",
       "      <td>0.006324</td>\n",
       "    </tr>\n",
       "    <tr>\n",
       "      <th>sp17</th>\n",
       "      <td>0.076886</td>\n",
       "      <td>0.076886</td>\n",
       "      <td>0.000433</td>\n",
       "    </tr>\n",
       "    <tr>\n",
       "      <th>sp18</th>\n",
       "      <td>0.000935</td>\n",
       "      <td>0.000935</td>\n",
       "      <td>0.000005</td>\n",
       "    </tr>\n",
       "    <tr>\n",
       "      <th>sp19</th>\n",
       "      <td>0.046323</td>\n",
       "      <td>0.046323</td>\n",
       "      <td>0.000261</td>\n",
       "    </tr>\n",
       "    <tr>\n",
       "      <th>sp2</th>\n",
       "      <td>44.139689</td>\n",
       "      <td>44.139689</td>\n",
       "      <td>0.248621</td>\n",
       "    </tr>\n",
       "    <tr>\n",
       "      <th>sp21</th>\n",
       "      <td>0.003872</td>\n",
       "      <td>0.003872</td>\n",
       "      <td>0.000022</td>\n",
       "    </tr>\n",
       "    <tr>\n",
       "      <th>sp3</th>\n",
       "      <td>12.279848</td>\n",
       "      <td>12.279848</td>\n",
       "      <td>0.069167</td>\n",
       "    </tr>\n",
       "    <tr>\n",
       "      <th>sp31</th>\n",
       "      <td>0.111167</td>\n",
       "      <td>0.111167</td>\n",
       "      <td>0.000626</td>\n",
       "    </tr>\n",
       "    <tr>\n",
       "      <th>sp4</th>\n",
       "      <td>15.144243</td>\n",
       "      <td>15.144243</td>\n",
       "      <td>0.085301</td>\n",
       "    </tr>\n",
       "    <tr>\n",
       "      <th>sp5</th>\n",
       "      <td>6.285136</td>\n",
       "      <td>6.285136</td>\n",
       "      <td>0.035402</td>\n",
       "    </tr>\n",
       "    <tr>\n",
       "      <th>sp6</th>\n",
       "      <td>9.340672</td>\n",
       "      <td>9.340672</td>\n",
       "      <td>0.052612</td>\n",
       "    </tr>\n",
       "    <tr>\n",
       "      <th>sp7</th>\n",
       "      <td>9.589929</td>\n",
       "      <td>9.589929</td>\n",
       "      <td>0.054016</td>\n",
       "    </tr>\n",
       "    <tr>\n",
       "      <th>sp8</th>\n",
       "      <td>5.676671</td>\n",
       "      <td>5.676671</td>\n",
       "      <td>0.031974</td>\n",
       "    </tr>\n",
       "    <tr>\n",
       "      <th>sp9</th>\n",
       "      <td>0.070298</td>\n",
       "      <td>0.070298</td>\n",
       "      <td>0.000396</td>\n",
       "    </tr>\n",
       "  </tbody>\n",
       "</table>\n",
       "</div>"
      ],
      "text/plain": [
       "             AS        DoA       DoR\n",
       "sp1   69.981806  69.981806  0.394178\n",
       "sp10   1.757374   1.757374  0.009899\n",
       "sp11   0.348378   0.348378  0.001962\n",
       "sp12   0.186908   0.186908  0.001053\n",
       "sp13   0.910116   0.910116  0.005126\n",
       "sp14   0.458842   0.458842  0.002584\n",
       "sp15   0.006516   0.006516  0.000037\n",
       "sp16   1.122796   1.122796  0.006324\n",
       "sp17   0.076886   0.076886  0.000433\n",
       "sp18   0.000935   0.000935  0.000005\n",
       "sp19   0.046323   0.046323  0.000261\n",
       "sp2   44.139689  44.139689  0.248621\n",
       "sp21   0.003872   0.003872  0.000022\n",
       "sp3   12.279848  12.279848  0.069167\n",
       "sp31   0.111167   0.111167  0.000626\n",
       "sp4   15.144243  15.144243  0.085301\n",
       "sp5    6.285136   6.285136  0.035402\n",
       "sp6    9.340672   9.340672  0.052612\n",
       "sp7    9.589929   9.589929  0.054016\n",
       "sp8    5.676671   5.676671  0.031974\n",
       "sp9    0.070298   0.070298  0.000396"
      ]
     },
     "execution_count": 18,
     "metadata": {},
     "output_type": "execute_result"
    }
   ],
   "source": [
    "dominancia = dfFloresta.pivot_table(values='as', index = 'sp', aggfunc='sum')\n",
    "dominancia = dominancia.rename_axis(None)\n",
    "dominancia = dominancia.rename_axis(None, axis='columns')\n",
    "dominancia.columns = ['AS']\n",
    "dominancia['DoA'] = dominancia.apply(lambda x: x['AS']/areaHa, axis=1)\n",
    "dominancia['DoR'] = dominancia.apply(lambda x: x['DoA']/sum(dominancia['DoA']), axis=1)\n",
    "dominancia"
   ]
  },
  {
   "cell_type": "code",
   "execution_count": 19,
   "metadata": {
    "scrolled": true
   },
   "outputs": [
    {
     "data": {
      "text/plain": [
       "sp1     0.427923\n",
       "sp10    0.014116\n",
       "sp11    0.004314\n",
       "sp12    0.004693\n",
       "sp13    0.005063\n",
       "sp14    0.002126\n",
       "sp15    0.002518\n",
       "sp16    0.006495\n",
       "sp17    0.001883\n",
       "sp18    0.000836\n",
       "sp19    0.000964\n",
       "sp2     0.200144\n",
       "sp21    0.000844\n",
       "sp3     0.084584\n",
       "sp31    0.001146\n",
       "sp4     0.085151\n",
       "sp5     0.046867\n",
       "sp6     0.045473\n",
       "sp7     0.034508\n",
       "sp8     0.023487\n",
       "sp9     0.006865\n",
       "dtype: float64"
      ]
     },
     "execution_count": 19,
     "metadata": {},
     "output_type": "execute_result"
    }
   ],
   "source": [
    "vc = (densidade['DR'] + dominancia['DoR'])/2\n",
    "vc"
   ]
  }
 ],
 "metadata": {
  "kernelspec": {
   "display_name": "Python 3",
   "language": "python",
   "name": "python3"
  },
  "language_info": {
   "codemirror_mode": {
    "name": "ipython",
    "version": 3
   },
   "file_extension": ".py",
   "mimetype": "text/x-python",
   "name": "python",
   "nbconvert_exporter": "python",
   "pygments_lexer": "ipython3",
   "version": "3.7.7"
  }
 },
 "nbformat": 4,
 "nbformat_minor": 4
}
